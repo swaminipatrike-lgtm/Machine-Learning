{
 "cells": [
  {
   "cell_type": "markdown",
   "id": "dc2c189d",
   "metadata": {},
   "source": [
    "#### Build a Simple Linear Regression model that predicts salary of employee based on their experience. ####"
   ]
  },
  {
   "cell_type": "code",
   "execution_count": 3,
   "id": "d109dc7b",
   "metadata": {},
   "outputs": [],
   "source": [
    "import pandas as pd"
   ]
  },
  {
   "cell_type": "code",
   "execution_count": 1,
   "id": "5b795bc7",
   "metadata": {},
   "outputs": [],
   "source": [
    "from sklearn.linear_model import LinearRegression\n"
   ]
  },
  {
   "cell_type": "markdown",
   "id": "2c4966cd",
   "metadata": {},
   "source": [
    "##### Load the dataset #####\n"
   ]
  },
  {
   "cell_type": "code",
   "execution_count": 17,
   "id": "012c8eaf",
   "metadata": {},
   "outputs": [
    {
     "ename": "SyntaxError",
     "evalue": "invalid syntax (3500041451.py, line 1)",
     "output_type": "error",
     "traceback": [
      "  \u001b[36mCell\u001b[39m\u001b[36m \u001b[39m\u001b[32mIn[17]\u001b[39m\u001b[32m, line 1\u001b[39m\n\u001b[31m    \u001b[39m\u001b[31mdata = pd.read_csv\"https://raw.githubusercontent.com/sindhura-nk/Datasets/refs/heads/main/Salary_dataset.csv\"\u001b[39m\n                      ^\n\u001b[31mSyntaxError\u001b[39m\u001b[31m:\u001b[39m invalid syntax\n"
     ]
    }
   ],
   "source": [
    "data = pd.read_csv\"https://raw.githubusercontent.com/sindhura-nk/Datasets/refs/heads/main/Salary_dataset.csv\""
   ]
  },
  {
   "cell_type": "markdown",
   "id": "9625547d",
   "metadata": {},
   "source": [
    "#### Prepare X (years of experience) and y (salary) ####"
   ]
  },
  {
   "cell_type": "code",
   "execution_count": 13,
   "id": "e769f6fa",
   "metadata": {},
   "outputs": [
    {
     "ename": "TypeError",
     "evalue": "string indices must be integers, not 'list'",
     "output_type": "error",
     "traceback": [
      "\u001b[31m---------------------------------------------------------------------------\u001b[39m",
      "\u001b[31mTypeError\u001b[39m                                 Traceback (most recent call last)",
      "\u001b[36mCell\u001b[39m\u001b[36m \u001b[39m\u001b[32mIn[13]\u001b[39m\u001b[32m, line 1\u001b[39m\n\u001b[32m----> \u001b[39m\u001b[32m1\u001b[39m X = \u001b[43mdata\u001b[49m\u001b[43m[\u001b[49m\u001b[43m[\u001b[49m\u001b[33;43m'\u001b[39;49m\u001b[33;43mYearsExperience\u001b[39;49m\u001b[33;43m'\u001b[39;49m\u001b[43m]\u001b[49m\u001b[43m]\u001b[49m\n\u001b[32m      2\u001b[39m y = data[\u001b[33m'\u001b[39m\u001b[33mSalary\u001b[39m\u001b[33m'\u001b[39m] \n",
      "\u001b[31mTypeError\u001b[39m: string indices must be integers, not 'list'"
     ]
    }
   ],
   "source": [
    "X = data[['YearsExperience']]\n",
    "y = data['Salary'] "
   ]
  }
 ],
 "metadata": {
  "kernelspec": {
   "display_name": "Python 3",
   "language": "python",
   "name": "python3"
  },
  "language_info": {
   "codemirror_mode": {
    "name": "ipython",
    "version": 3
   },
   "file_extension": ".py",
   "mimetype": "text/x-python",
   "name": "python",
   "nbconvert_exporter": "python",
   "pygments_lexer": "ipython3",
   "version": "3.13.8"
  }
 },
 "nbformat": 4,
 "nbformat_minor": 5
}
